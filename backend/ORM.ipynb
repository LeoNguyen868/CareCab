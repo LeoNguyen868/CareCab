{
 "cells": [
  {
   "cell_type": "code",
   "execution_count": null,
   "metadata": {},
   "outputs": [
    {
     "name": "stderr",
     "output_type": "stream",
     "text": [
      "c:\\Users\\hieu7\\AppData\\Local\\Programs\\Python\\Python311\\Lib\\site-packages\\pydantic\\_internal\\_config.py:269: UserWarning: Valid config keys have changed in V2:\n",
      "* 'orm_mode' has been renamed to 'from_attributes'\n",
      "  warnings.warn(message, UserWarning)\n",
      "C:\\Users\\hieu7\\AppData\\Local\\Temp\\ipykernel_8916\\1063200386.py:31: DeprecationWarning: \n",
      "        on_event is deprecated, use lifespan event handlers instead.\n",
      "\n",
      "        Read more about it in the\n",
      "        [FastAPI docs for Lifespan Events](https://fastapi.tiangolo.com/advanced/events/).\n",
      "        \n",
      "  @app.on_event(\"startup\")\n",
      "INFO:     Started server process [8916]\n",
      "INFO:     Waiting for application startup.\n",
      "INFO:     Application startup complete.\n",
      "INFO:     Uvicorn running on http://127.0.0.1:8000 (Press CTRL+C to quit)\n"
     ]
    },
    {
     "name": "stdout",
     "output_type": "stream",
     "text": [
      "INFO:     14.232.30.89:0 - \"POST /auth/login HTTP/1.1\" 200 OK\n",
      "INFO:     14.232.30.89:0 - \"GET /appointments/upcoming/2 HTTP/1.1\" 200 OK\n",
      "INFO:     14.232.30.89:0 - \"GET /patients/user/2 HTTP/1.1\" 200 OK\n",
      "INFO:     14.232.30.89:0 - \"GET /appointments/patient/2 HTTP/1.1\" 200 OK\n",
      "INFO:     14.232.30.89:0 - \"GET /appointments/patient/2 HTTP/1.1\" 200 OK\n",
      "INFO:     14.232.30.89:0 - \"GET /appointments/patient/2 HTTP/1.1\" 200 OK\n",
      "INFO:     14.232.30.89:0 - \"GET /nurses/2 HTTP/1.1\" 200 OK\n",
      "INFO:     14.232.30.89:0 - \"GET /nurses/1 HTTP/1.1\" 200 OK\n",
      "INFO:     14.232.30.89:0 - \"GET /nurses/1 HTTP/1.1\" 200 OK\n",
      "INFO:     14.232.30.89:0 - \"GET /nurses/1 HTTP/1.1\" 200 OK\n",
      "INFO:     14.232.30.89:0 - \"GET /users/profile/2 HTTP/1.1\" 200 OK\n",
      "INFO:     14.232.30.89:0 - \"GET /nurses/2 HTTP/1.1\" 200 OK\n",
      "INFO:     14.232.30.89:0 - \"GET /users/profile/1 HTTP/1.1\" 200 OK\n",
      "INFO:     14.232.30.89:0 - \"GET /users/profile/1 HTTP/1.1\" 200 OK\n",
      "INFO:     14.232.30.89:0 - \"GET /users/profile/2 HTTP/1.1\" 200 OK\n",
      "INFO:     14.232.30.89:0 - \"GET /users/profile/1 HTTP/1.1\" 200 OK\n",
      "INFO:     14.232.30.89:0 - \"GET /appointments/patient/2 HTTP/1.1\" 200 OK\n",
      "INFO:     14.232.30.89:0 - \"GET /nurses/1 HTTP/1.1\" 200 OK\n",
      "INFO:     14.232.30.89:0 - \"GET /nurses/2 HTTP/1.1\" 200 OK\n",
      "INFO:     14.232.30.89:0 - \"GET /nurses/1 HTTP/1.1\" 200 OK\n",
      "INFO:     14.232.30.89:0 - \"GET /nurses/2 HTTP/1.1\" 200 OK\n",
      "INFO:     14.232.30.89:0 - \"GET /users/profile/1 HTTP/1.1\" 200 OK\n",
      "INFO:     14.232.30.89:0 - \"GET /users/profile/2 HTTP/1.1\" 200 OK\n",
      "INFO:     14.232.30.89:0 - \"GET /users/profile/2 HTTP/1.1\" 200 OK\n",
      "INFO:     14.232.30.89:0 - \"GET /users/profile/1 HTTP/1.1\" 200 OK\n",
      "INFO:     14.232.30.89:0 - \"GET /appointments/patient/2 HTTP/1.1\" 200 OK\n",
      "INFO:     14.232.30.89:0 - \"GET /nurses/2 HTTP/1.1\" 200 OK\n",
      "INFO:     14.232.30.89:0 - \"GET /nurses/2 HTTP/1.1\" 200 OK\n",
      "INFO:     14.232.30.89:0 - \"GET /nurses/1 HTTP/1.1\" 200 OK\n",
      "INFO:     14.232.30.89:0 - \"GET /nurses/1 HTTP/1.1\" 200 OK\n",
      "INFO:     14.232.30.89:0 - \"GET /users/profile/2 HTTP/1.1\" 200 OK\n",
      "INFO:     14.232.30.89:0 - \"GET /users/profile/2 HTTP/1.1\" 200 OK\n",
      "INFO:     14.232.30.89:0 - \"GET /users/profile/1 HTTP/1.1\" 200 OK\n",
      "INFO:     14.232.30.89:0 - \"GET /users/profile/1 HTTP/1.1\" 200 OK\n",
      "INFO:     14.232.30.89:0 - \"POST /appointments/available-nurses HTTP/1.1\" 400 Bad Request\n",
      "INFO:     14.232.30.89:0 - \"POST /appointments/available-nurses HTTP/1.1\" 200 OK\n",
      "INFO:     14.232.30.89:0 - \"GET /users/profile/1 HTTP/1.1\" 200 OK\n",
      "INFO:     14.232.30.89:0 - \"GET /users/profile/2 HTTP/1.1\" 200 OK\n",
      "INFO:     14.232.30.89:0 - \"POST /appointments/available-nurses HTTP/1.1\" 200 OK\n",
      "INFO:     14.232.30.89:0 - \"GET /users/profile/2 HTTP/1.1\" 200 OK\n",
      "INFO:     14.232.30.89:0 - \"GET /users/profile/1 HTTP/1.1\" 200 OK\n",
      "INFO:     14.232.30.89:0 - \"GET /appointments/upcoming/2 HTTP/1.1\" 200 OK\n",
      "INFO:     14.232.30.89:0 - \"GET /appointments/patient/2 HTTP/1.1\" 200 OK\n",
      "INFO:     14.232.30.89:0 - \"GET /appointments/patient/2 HTTP/1.1\" 200 OK\n",
      "INFO:     14.232.30.89:0 - \"GET /appointments/patient/2 HTTP/1.1\" 200 OK\n",
      "INFO:     14.232.30.89:0 - \"GET /nurses/1 HTTP/1.1\" 200 OK\n",
      "INFO:     14.232.30.89:0 - \"GET /nurses/1 HTTP/1.1\" 200 OK\n",
      "INFO:     14.232.30.89:0 - \"GET /nurses/2 HTTP/1.1\" 200 OK\n",
      "INFO:     14.232.30.89:0 - \"GET /nurses/2 HTTP/1.1\" 200 OK\n",
      "INFO:     14.232.30.89:0 - \"GET /nurses/1 HTTP/1.1\" 200 OK\n",
      "INFO:     14.232.30.89:0 - \"GET /users/profile/1 HTTP/1.1\" 200 OK\n",
      "INFO:     14.232.30.89:0 - \"GET /users/profile/2 HTTP/1.1\" 200 OK\n",
      "INFO:     14.232.30.89:0 - \"GET /users/profile/2 HTTP/1.1\" 200 OK\n",
      "INFO:     14.232.30.89:0 - \"GET /users/profile/1 HTTP/1.1\" 200 OK\n",
      "INFO:     14.232.30.89:0 - \"GET /users/profile/1 HTTP/1.1\" 200 OK\n",
      "INFO:     14.232.30.89:0 - \"GET /appointments/upcoming/2 HTTP/1.1\" 200 OK\n",
      "INFO:     14.232.30.89:0 - \"GET /appointments/upcoming/2 HTTP/1.1\" 200 OK\n"
     ]
    }
   ],
   "source": [
    "import nest_asyncio\n",
    "from fastapi import FastAPI\n",
    "from fastapi.encoders import jsonable_encoder\n",
    "import uvicorn\n",
    "from fastapi.middleware.cors import CORSMiddleware\n",
    "from tortoise.queryset import Q\n",
    "from ORMModels import *\n",
    "from Utils import *\n",
    "from pydanticModels import *\n",
    "from Routers.nurse_router import router as nurse_router\n",
    "from Routers.user_router import router as user_router\n",
    "from Routers.auth_router import router as auth_router\n",
    "from Routers.appointment_router import router as appointment_router\n",
    "from Routers.patient_router import router as patient_router\n",
    "# Cho phép FastAPI chạy trong notebook\n",
    "nest_asyncio.apply()\n",
    "# Khởi tạo ứng dụng FastAPI\n",
    "app = FastAPI()\n",
    "\n",
    "# Class Pydantic cho User\n",
    "\n",
    "app.add_middleware(\n",
    "    CORSMiddleware,\n",
    "    allow_origins=[\"*\"],  # Cho phép tất cả nguồn gốc, nhưng có thể thu hẹp\n",
    "    allow_credentials=True,\n",
    "    allow_methods=[\"*\"],\n",
    "    allow_headers=[\"*\"],\n",
    ")\n",
    "\n",
    "# Chạy server\n",
    "@app.on_event(\"startup\")\n",
    "async def startup_event():\n",
    "    await init_orm()\n",
    "app.include_router(nurse_router, prefix=\"/nurses\", tags=[\"Nurses\"])\n",
    "app.include_router(user_router, prefix=\"/users\", tags=[\"Users\"])\n",
    "app.include_router(auth_router, prefix=\"/auth\", tags=[\"Auth\"])\n",
    "app.include_router(appointment_router, prefix=\"/appointments\", tags=[\"Appointments\"])\n",
    "app.include_router(patient_router, prefix=\"/patients\", tags=[\"Patients\"])\n",
    "uvicorn.run(app, host=\"127.0.0.1\", port=8000)\n"
   ]
  },
  {
   "cell_type": "code",
   "execution_count": null,
   "metadata": {},
   "outputs": [
    {
     "name": "stdout",
     "output_type": "stream",
     "text": [
      "Ngrok tunnel \"NgrokTunnel: \"https://b4ab-14-232-30-89.ngrok-free.app\" -> \"http://localhost:8000\"\" -> \"http://localhost:8000\"\n"
     ]
    },
    {
     "data": {
      "text/plain": [
       "<NgrokTunnel: \"https://b4ab-14-232-30-89.ngrok-free.app\" -> \"http://localhost:8000\">"
      ]
     },
     "execution_count": 1,
     "metadata": {},
     "output_type": "execute_result"
    }
   ],
   "source": []
  }
 ],
 "metadata": {
  "kernelspec": {
   "display_name": "Python 3",
   "language": "python",
   "name": "python3"
  },
  "language_info": {
   "codemirror_mode": {
    "name": "ipython",
    "version": 3
   },
   "file_extension": ".py",
   "mimetype": "text/x-python",
   "name": "python",
   "nbconvert_exporter": "python",
   "pygments_lexer": "ipython3",
   "version": "3.11.4"
  }
 },
 "nbformat": 4,
 "nbformat_minor": 2
}
